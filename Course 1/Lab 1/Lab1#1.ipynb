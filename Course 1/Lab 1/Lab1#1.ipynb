{
 "cells": [
  {
   "cell_type": "markdown",
   "id": "8acfc7a3-7d33-4420-be21-6621dc8a38d8",
   "metadata": {},
   "source": [
    "# Hello world"
   ]
  },
  {
   "cell_type": "markdown",
   "id": "49999de2-c6fa-408d-843b-432e19f36b69",
   "metadata": {},
   "source": [
    "<h1>H1 html title </h1>"
   ]
  },
  {
   "cell_type": "code",
   "execution_count": 1,
   "id": "98dd06b6-9e16-4a43-be77-1c78782379a5",
   "metadata": {},
   "outputs": [
    {
     "data": {
      "text/plain": [
       "2"
      ]
     },
     "execution_count": 1,
     "metadata": {},
     "output_type": "execute_result"
    }
   ],
   "source": [
    "1+1"
   ]
  },
  {
   "cell_type": "code",
   "execution_count": 2,
   "id": "ce76a6ba-4277-4133-ba8e-7c870b1d00f1",
   "metadata": {},
   "outputs": [
    {
     "data": {
      "text/plain": [
       "25"
      ]
     },
     "execution_count": 2,
     "metadata": {},
     "output_type": "execute_result"
    }
   ],
   "source": [
    "5*5"
   ]
  },
  {
   "cell_type": "code",
   "execution_count": 7,
   "id": "baabb34b-efa8-4e84-8904-4cc6a32a3797",
   "metadata": {},
   "outputs": [
    {
     "name": "stdout",
     "output_type": "stream",
     "text": [
      "Hello world\n"
     ]
    }
   ],
   "source": [
    "print('Hello world')"
   ]
  },
  {
   "cell_type": "markdown",
   "id": "4929d23d-400b-45be-994a-5a4e15825764",
   "metadata": {},
   "source": [
    "|#|Name|Age|\n",
    "|---|---|---|\n",
    "|1|Machine|Learning|\n",
    "|2|Artificical|Intelligent|\n",
    "|3|Data|Analyst|\n",
    "|4|Python|Engineer|"
   ]
  }
 ],
 "metadata": {
  "kernelspec": {
   "display_name": "Python [conda env:base] *",
   "language": "python",
   "name": "conda-base-py"
  },
  "language_info": {
   "codemirror_mode": {
    "name": "ipython",
    "version": 3
   },
   "file_extension": ".py",
   "mimetype": "text/x-python",
   "name": "python",
   "nbconvert_exporter": "python",
   "pygments_lexer": "ipython3",
   "version": "3.12.7"
  }
 },
 "nbformat": 4,
 "nbformat_minor": 5
}
