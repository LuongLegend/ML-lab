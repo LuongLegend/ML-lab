{
 "cells": [
  {
   "cell_type": "markdown",
   "id": "c4b7469b-8a7b-4500-ac48-fe0a308d0e1e",
   "metadata": {},
   "source": [
    "# Greeting"
   ]
  },
  {
   "cell_type": "code",
   "execution_count": 1,
   "id": "d8fa5799-5f4a-490f-89f6-5c82cce5ba29",
   "metadata": {},
   "outputs": [
    {
     "name": "stdout",
     "output_type": "stream",
     "text": [
      "Hello world\n"
     ]
    }
   ],
   "source": [
    "print('Hello world')"
   ]
  },
  {
   "cell_type": "code",
   "execution_count": 2,
   "id": "f9931e74-d516-4b8b-b4dc-ce1eae1678ef",
   "metadata": {},
   "outputs": [
    {
     "name": "stdout",
     "output_type": "stream",
     "text": [
      "Hello, Python!\n"
     ]
    }
   ],
   "source": [
    "print('Hello, Python!')"
   ]
  },
  {
   "cell_type": "markdown",
   "id": "8a9b864b-9399-4e83-8f41-0182382c3e95",
   "metadata": {},
   "source": [
    "# Check version"
   ]
  },
  {
   "cell_type": "code",
   "execution_count": 6,
   "id": "a82270b0",
   "metadata": {},
   "outputs": [
    {
     "name": "stdout",
     "output_type": "stream",
     "text": [
      "3.12.7 | packaged by Anaconda, Inc. | (main, Oct  4 2024, 13:17:27) [MSC v.1929 64 bit (AMD64)]\n"
     ]
    },
    {
     "data": {
      "text/plain": [
       "'\\n A paragraph comment\\n'"
      ]
     },
     "execution_count": 6,
     "metadata": {},
     "output_type": "execute_result"
    }
   ],
   "source": [
    "import sys\n",
    "print(sys.version)\n",
    "# This is comment line\n",
    "\"\"\"\n",
    " A paragraph comment\n",
    "\"\"\""
   ]
  },
  {
   "cell_type": "code",
   "execution_count": 8,
   "id": "f77f5ab6",
   "metadata": {},
   "outputs": [
    {
     "ename": "NameError",
     "evalue": "name 'fprint' is not defined",
     "output_type": "error",
     "traceback": [
      "\u001b[1;31m---------------------------------------------------------------------------\u001b[0m",
      "\u001b[1;31mNameError\u001b[0m                                 Traceback (most recent call last)",
      "Cell \u001b[1;32mIn[8], line 1\u001b[0m\n\u001b[1;32m----> 1\u001b[0m fprint(\u001b[38;5;124m'\u001b[39m\u001b[38;5;124merror\u001b[39m\u001b[38;5;124m'\u001b[39m)\n",
      "\u001b[1;31mNameError\u001b[0m: name 'fprint' is not defined"
     ]
    }
   ],
   "source": [
    "fprint('error')"
   ]
  },
  {
   "cell_type": "code",
   "execution_count": 12,
   "id": "5329a1fd",
   "metadata": {},
   "outputs": [
    {
     "name": "stdout",
     "output_type": "stream",
     "text": [
      "<class 'int'>\n",
      "<class 'float'>\n",
      "<class 'str'>\n",
      "<class 'int'>\n"
     ]
    }
   ],
   "source": [
    "#Check type\n",
    "a = type(1)\n",
    "print(a)\n",
    "b = type(1.1)\n",
    "print(b)\n",
    "c = type('HELLO')\n",
    "print(c)\n",
    "d = type(-1)\n",
    "print(d)"
   ]
  },
  {
   "cell_type": "code",
   "execution_count": 18,
   "id": "18f26e47",
   "metadata": {},
   "outputs": [
    {
     "data": {
      "text/plain": [
       "sys.float_info(max=1.7976931348623157e+308, max_exp=1024, max_10_exp=308, min=2.2250738585072014e-308, min_exp=-1021, min_10_exp=-307, dig=15, mant_dig=53, epsilon=2.220446049250313e-16, radix=2, rounds=1)"
      ]
     },
     "execution_count": 18,
     "metadata": {},
     "output_type": "execute_result"
    }
   ],
   "source": [
    "#System info\n",
    "sys.float_info"
   ]
  },
  {
   "cell_type": "code",
   "execution_count": 30,
   "id": "ce822b4c",
   "metadata": {},
   "outputs": [
    {
     "name": "stdout",
     "output_type": "stream",
     "text": [
      "<class 'int'>\n",
      "2\n",
      "2.0\n",
      "2\n",
      "322\n",
      "2.2\n",
      "1\n",
      "1.0\n",
      "0.0\n"
     ]
    }
   ],
   "source": [
    "# Typecasting\n",
    "#int()\n",
    "a = 2.2\n",
    "b = int(a)\n",
    "print(type(b))\n",
    "print(b)\n",
    "#float()\n",
    "c = 2\n",
    "d = float(2)\n",
    "print(d)\n",
    "#string to int\n",
    "print(int('2'))\n",
    "#print(int('hello 2'))\n",
    "#number to string\n",
    "print(str(322))\n",
    "print(str(2.2))\n",
    "#bool to int\n",
    "print(int(True))\n",
    "print(float(True))\n",
    "print(float(False))"
   ]
  },
  {
   "cell_type": "code",
   "execution_count": 32,
   "id": "10d8ddf2",
   "metadata": {},
   "outputs": [
    {
     "name": "stdout",
     "output_type": "stream",
     "text": [
      "60.0\n"
     ]
    }
   ],
   "source": [
    "# exercise\n",
    "type(6//2)\n",
    "x = 3600\n",
    "x/=60\n",
    "print(x)"
   ]
  }
 ],
 "metadata": {
  "kernelspec": {
   "display_name": "base",
   "language": "python",
   "name": "python3"
  },
  "language_info": {
   "codemirror_mode": {
    "name": "ipython",
    "version": 3
   },
   "file_extension": ".py",
   "mimetype": "text/x-python",
   "name": "python",
   "nbconvert_exporter": "python",
   "pygments_lexer": "ipython3",
   "version": "3.12.7"
  }
 },
 "nbformat": 4,
 "nbformat_minor": 5
}
