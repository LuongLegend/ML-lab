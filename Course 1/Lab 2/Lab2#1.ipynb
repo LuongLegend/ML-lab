{
 "cells": [
  {
   "cell_type": "markdown",
   "id": "c4b7469b-8a7b-4500-ac48-fe0a308d0e1e",
   "metadata": {},
   "source": [
    "# Greeting"
   ]
  },
  {
   "cell_type": "code",
   "execution_count": 1,
   "id": "d8fa5799-5f4a-490f-89f6-5c82cce5ba29",
   "metadata": {},
   "outputs": [
    {
     "name": "stdout",
     "output_type": "stream",
     "text": [
      "Hello world\n"
     ]
    }
   ],
   "source": [
    "print('Hello world')"
   ]
  },
  {
   "cell_type": "code",
   "execution_count": 2,
   "id": "f9931e74-d516-4b8b-b4dc-ce1eae1678ef",
   "metadata": {},
   "outputs": [
    {
     "name": "stdout",
     "output_type": "stream",
     "text": [
      "Hello, Python!\n"
     ]
    }
   ],
   "source": [
    "print('Hello, Python!')"
   ]
  },
  {
   "cell_type": "markdown",
   "id": "8a9b864b-9399-4e83-8f41-0182382c3e95",
   "metadata": {},
   "source": [
    "# Check version"
   ]
  }
 ],
 "metadata": {
  "kernelspec": {
   "display_name": "Python 3 (ipykernel)",
   "language": "python",
   "name": "python3"
  },
  "language_info": {
   "codemirror_mode": {
    "name": "ipython",
    "version": 3
   },
   "file_extension": ".py",
   "mimetype": "text/x-python",
   "name": "python",
   "nbconvert_exporter": "python",
   "pygments_lexer": "ipython3",
   "version": "3.12.7"
  }
 },
 "nbformat": 4,
 "nbformat_minor": 5
}
