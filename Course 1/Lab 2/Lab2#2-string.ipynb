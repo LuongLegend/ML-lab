{
 "cells": [
  {
   "cell_type": "code",
   "execution_count": 38,
   "metadata": {},
   "outputs": [
    {
     "name": "stdout",
     "output_type": "stream",
     "text": [
      "H\n",
      "d\n",
      "Hello\n",
      "Hello world\n",
      "world\n",
      "Hello\n",
      "11\n"
     ]
    }
   ],
   "source": [
    "\"Hello world\"\n",
    "s = \"Hello world\"\n",
    "print(s[0])\n",
    "print(s[-1])\n",
    "print(s[0:5])\n",
    "print(s[0:])\n",
    "print(s[6:])\n",
    "print(s[:5])\n",
    "#String len\n",
    "print(len(s))"
   ]
  },
  {
   "cell_type": "code",
   "execution_count": 25,
   "metadata": {},
   "outputs": [
    {
     "name": "stdout",
     "output_type": "stream",
     "text": [
      "Srd\n",
      "Si\n",
      "Sr\n"
     ]
    }
   ],
   "source": [
    "# Stride\n",
    "s = \"Stride\"\n",
    "print(s[::2])\n",
    "print(s[::3])\n",
    "# Limit str then stride\n",
    "print(s[0:3:2])"
   ]
  },
  {
   "cell_type": "code",
   "execution_count": 28,
   "metadata": {},
   "outputs": [
    {
     "name": "stdout",
     "output_type": "stream",
     "text": [
      "hello world\n",
      "anything here will display \\\\dgasd\\\\dgas\\\\gsdg\\ \\t \\r \\n\n"
     ]
    }
   ],
   "source": [
    "# Link string\n",
    "a = \"hello\"\n",
    "b = a+ \" world\"\n",
    "print(b)\n",
    "# RAW string\n",
    "print(r'anything here will display \\\\dgasd\\\\dgas\\\\gsdg\\ \\t \\r \\n')\n"
   ]
  },
  {
   "cell_type": "code",
   "execution_count": 37,
   "metadata": {},
   "outputs": [
    {
     "data": {
      "text/plain": [
       "2"
      ]
     },
     "execution_count": 37,
     "metadata": {},
     "output_type": "execute_result"
    }
   ],
   "source": [
    "#String method\n",
    "a = \"hello world\" \n",
    "a.upper()\n",
    "a.lower()\n",
    "# Replace\n",
    "a.replace('hello', 'hi')\n",
    "a.replace('l', 'z')\n",
    "# Find \n",
    "# return -1 if not exist\n",
    "# else return first index\n",
    "a.find('ll')\n"
   ]
  },
  {
   "cell_type": "code",
   "execution_count": null,
   "metadata": {},
   "outputs": [],
   "source": []
  }
 ],
 "metadata": {
  "kernelspec": {
   "display_name": "base",
   "language": "python",
   "name": "python3"
  },
  "language_info": {
   "codemirror_mode": {
    "name": "ipython",
    "version": 3
   },
   "file_extension": ".py",
   "mimetype": "text/x-python",
   "name": "python",
   "nbconvert_exporter": "python",
   "pygments_lexer": "ipython3",
   "version": "3.12.7"
  }
 },
 "nbformat": 4,
 "nbformat_minor": 2
}
