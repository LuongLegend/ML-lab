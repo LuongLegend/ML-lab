{
 "cells": [
  {
   "cell_type": "code",
   "execution_count": 2,
   "metadata": {},
   "outputs": [
    {
     "name": "stdout",
     "output_type": "stream",
     "text": [
      "('disco', 10, 1.2)\n"
     ]
    },
    {
     "data": {
      "text/plain": [
       "tuple"
      ]
     },
     "execution_count": 2,
     "metadata": {},
     "output_type": "execute_result"
    }
   ],
   "source": [
    "tuple1 = ('disco', 10, 1.2)\n",
    "print(tuple1)\n",
    "type(tuple1)"
   ]
  },
  {
   "cell_type": "code",
   "execution_count": 6,
   "metadata": {},
   "outputs": [
    {
     "name": "stdout",
     "output_type": "stream",
     "text": [
      "<class 'str'>\n",
      "1.2\n"
     ]
    }
   ],
   "source": [
    "print(type(tuple1[0]))\n",
    "print(tuple1[-1])"
   ]
  },
  {
   "cell_type": "code",
   "execution_count": 10,
   "metadata": {},
   "outputs": [
    {
     "name": "stdout",
     "output_type": "stream",
     "text": [
      "(1, 'gs', True, 3, 3, 'no')\n",
      "6\n"
     ]
    }
   ],
   "source": [
    "# Link tuple A + B\n",
    "t1 = (1,\"gs\", True)\n",
    "tb2 = t1 + (3, 3, 'no')\n",
    "print(tb2)\n",
    "print(len(tb2))"
   ]
  },
  {
   "cell_type": "code",
   "execution_count": 12,
   "metadata": {},
   "outputs": [
    {
     "name": "stdout",
     "output_type": "stream",
     "text": [
      "[1, 1, 2, 3, 5, 5, 6]\n"
     ]
    }
   ],
   "source": [
    "# Sorting\n",
    "# Sort the same type\n",
    "tb = (2,1,1,5,3,5,6)\n",
    "sorted_tb = sorted(tb)\n",
    "print(sorted_tb)"
   ]
  },
  {
   "cell_type": "code",
   "execution_count": 15,
   "metadata": {},
   "outputs": [
    {
     "name": "stdout",
     "output_type": "stream",
     "text": [
      "(1, 2, ('pop', 'rock'), (3, 4), ('disco', (1, 2)))\n",
      "rock\n",
      "3\n",
      "1\n"
     ]
    }
   ],
   "source": [
    "NestedT = (1,2, (\"pop\", \"rock\"), (3,4), (\"disco\", (1,2)))\n",
    "print(NestedT)\n",
    "print(NestedT[2][1])\n",
    "print(NestedT[3][0])\n",
    "print(NestedT[4][1][0])"
   ]
  },
  {
   "cell_type": "code",
   "execution_count": 18,
   "metadata": {},
   "outputs": [
    {
     "name": "stdout",
     "output_type": "stream",
     "text": [
      "8\n",
      "7\n",
      "[-5, -3, 1]\n"
     ]
    }
   ],
   "source": [
    "#Quiz\n",
    "genres_tuple = (\"pop\", \"rock\", \"soul\", \"hard rock\", \"soft rock\", \"R&B\", \"progressive rock\", \"disco\") \n",
    "print(len(genres_tuple))\n",
    "print(genres_tuple.index(\"disco\"))\n",
    "# \n",
    "C_tuple = (-5, 1, -3)\n",
    "sort_tuple = sorted(C_tuple)\n",
    "print(sort_tuple)"
   ]
  }
 ],
 "metadata": {
  "kernelspec": {
   "display_name": "base",
   "language": "python",
   "name": "python3"
  },
  "language_info": {
   "codemirror_mode": {
    "name": "ipython",
    "version": 3
   },
   "file_extension": ".py",
   "mimetype": "text/x-python",
   "name": "python",
   "nbconvert_exporter": "python",
   "pygments_lexer": "ipython3",
   "version": "3.12.7"
  }
 },
 "nbformat": 4,
 "nbformat_minor": 2
}
