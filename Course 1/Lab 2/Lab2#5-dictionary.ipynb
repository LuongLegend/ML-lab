{
 "cells": [
  {
   "cell_type": "code",
   "execution_count": 8,
   "metadata": {},
   "outputs": [
    {
     "name": "stdout",
     "output_type": "stream",
     "text": [
      "one\n",
      "mot\n",
      "one one\n",
      "dict_keys(['1', 'one', 1, (1,)])\n"
     ]
    }
   ],
   "source": [
    "dict = {\"1\": \"one\", \"one\": 1, 1: 'mot', (1,): \"one one\", }\n",
    "print(dict[\"1\"])\n",
    "print(dict[1])\n",
    "print(dict[(1,)])"
   ]
  },
  {
   "cell_type": "code",
   "execution_count": 20,
   "metadata": {},
   "outputs": [
    {
     "name": "stdout",
     "output_type": "stream",
     "text": [
      "dict_keys(['1', 'one', 1])\n",
      "dict_values(['one', 1, 4])\n",
      "True\n",
      "{'1': 'one', 'one': 1, 1: 4}\n",
      "{'1': 'one', 'one': 1, 1: 4}\n",
      "{'1': 'one', 'one': 1, 1: 4}\n"
     ]
    }
   ],
   "source": [
    "#Check\n",
    "print(dict.keys())\n",
    "print(dict.values())\n",
    "print(1 in dict)\n",
    "#Update\n",
    "print(dict)\n",
    "dict[1] = 4\n",
    "print(dict)\n",
    "#del(dict[(1,)])\n",
    "dict.pop((1,), 'ok')\n",
    "print(dict)"
   ]
  }
 ],
 "metadata": {
  "kernelspec": {
   "display_name": "base",
   "language": "python",
   "name": "python3"
  },
  "language_info": {
   "codemirror_mode": {
    "name": "ipython",
    "version": 3
   },
   "file_extension": ".py",
   "mimetype": "text/x-python",
   "name": "python",
   "nbconvert_exporter": "python",
   "pygments_lexer": "ipython3",
   "version": "3.12.7"
  }
 },
 "nbformat": 4,
 "nbformat_minor": 2
}
