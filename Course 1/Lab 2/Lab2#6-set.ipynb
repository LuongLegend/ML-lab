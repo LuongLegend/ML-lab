{
 "cells": [
  {
   "cell_type": "code",
   "execution_count": 3,
   "metadata": {},
   "outputs": [
    {
     "name": "stdout",
     "output_type": "stream",
     "text": [
      "{None, 65, 'Pop, Rock, R&B', 'Thriller', 10.0, 46.0, '30-Nov-82', 'Michael Jackson', '00:42:19', 1982}\n",
      "{None, 65, 'Pop, Rock, R&B', 'Thriller', 'big bang', 10.0, 46.0, '30-Nov-82', 'Michael Jackson', '00:42:19'}\n"
     ]
    }
   ],
   "source": [
    "#Set\n",
    "album_list = [ \"Michael Jackson\", \"Thriller\", 1982, \"00:42:19\", \\\n",
    "              \"Pop, Rock, R&B\", 46.0, 65, \"30-Nov-82\", None, 10.0]\n",
    "album_set = set(album_list)\n",
    "print(album_set)\n",
    "album_set.add(\"big bang\")\n",
    "album_set.remove(1982)\n",
    "print(album_set)"
   ]
  },
  {
   "cell_type": "code",
   "execution_count": 14,
   "metadata": {},
   "outputs": [
    {
     "name": "stdout",
     "output_type": "stream",
     "text": [
      "{2, 3}\n",
      "{2, 3}\n",
      "{1}\n",
      "{1, 2, 3, 4}\n",
      "False\n",
      "True\n",
      "True\n"
     ]
    }
   ],
   "source": [
    "set_a = {1,2,3}\n",
    "set_b = {2,3,4}\n",
    "#intersection\n",
    "set_c = set_a & set_b\n",
    "print(set_c)\n",
    "set_k = set_a.intersection(set_b)\n",
    "print(set_k)\n",
    "#difference\n",
    "set_d = set_a.difference(set_c)\n",
    "print(set_d)\n",
    "#union\n",
    "set_u = set_a.union(set_b)\n",
    "print(set_u)\n",
    "#issubset\n",
    "print(set_a.issubset(set_b))\n",
    "set_s = {2,3}\n",
    "print(set_s.issubset(set_a))\n",
    "#issuperset\n",
    "print(set_b.issuperset(set_s))"
   ]
  },
  {
   "cell_type": "code",
   "execution_count": 16,
   "metadata": {},
   "outputs": [
    {
     "name": "stdout",
     "output_type": "stream",
     "text": [
      "{'rap', 'electronic music', 'house'}\n"
     ]
    }
   ],
   "source": [
    "#Quiz\n",
    "L = ['rap', 'house', 'electronic music', 'rap']\n",
    "music_set = set(L)\n",
    "print(music_set)"
   ]
  },
  {
   "cell_type": "code",
   "execution_count": 17,
   "metadata": {},
   "outputs": [
    {
     "name": "stdout",
     "output_type": "stream",
     "text": [
      "False\n"
     ]
    }
   ],
   "source": [
    "A = [1,2,2,1]\n",
    "B = set([1,2,2,1])\n",
    "print(sum(A) == sum(B))"
   ]
  },
  {
   "cell_type": "code",
   "execution_count": 19,
   "metadata": {},
   "outputs": [
    {
     "name": "stdout",
     "output_type": "stream",
     "text": [
      "{'Thriller', 'Back in Black', 'AC/DC', 'The Dark Side of the Moon'}\n",
      "True\n"
     ]
    }
   ],
   "source": [
    "album_set1 = set([\"Thriller\", 'AC/DC', 'Back in Black'])\n",
    "album_set2 = set([ \"AC/DC\", \"Back in Black\", \"The Dark Side of the Moon\"])\n",
    "album_set3 = album_set1.union(album_set2)\n",
    "print(album_set3)\n",
    "print(album_set1.issubset(album_set3))"
   ]
  }
 ],
 "metadata": {
  "kernelspec": {
   "display_name": "base",
   "language": "python",
   "name": "python3"
  },
  "language_info": {
   "codemirror_mode": {
    "name": "ipython",
    "version": 3
   },
   "file_extension": ".py",
   "mimetype": "text/x-python",
   "name": "python",
   "nbconvert_exporter": "python",
   "pygments_lexer": "ipython3",
   "version": "3.12.7"
  }
 },
 "nbformat": 4,
 "nbformat_minor": 2
}
