{
 "cells": [
  {
   "cell_type": "code",
   "execution_count": 6,
   "metadata": {},
   "outputs": [
    {
     "name": "stdout",
     "output_type": "stream",
     "text": [
      "you too young\n",
      "move on\n"
     ]
    }
   ],
   "source": [
    "# Condition\n",
    "age = 9\n",
    "\n",
    "if age > 18:\n",
    "  print('you can enter')\n",
    "elif age < 10:\n",
    "  print('you too young')\n",
    "else:\n",
    "  print('go see Meat Loaf')\n",
    "print('move on')"
   ]
  },
  {
   "cell_type": "code",
   "execution_count": 7,
   "metadata": {},
   "outputs": [
    {
     "name": "stdout",
     "output_type": "stream",
     "text": [
      "This album is Amazing\n"
     ]
    }
   ],
   "source": [
    "#Quiz\n",
    "album_ranking = {'black in black': 8.5}\n",
    "if album_ranking['black in black'] > 8:\n",
    "  print('This album is Amazing')\n",
    "else:\n",
    "  print('This album is ok')"
   ]
  },
  {
   "cell_type": "code",
   "execution_count": 8,
   "metadata": {},
   "outputs": [
    {
     "name": "stdout",
     "output_type": "stream",
     "text": [
      "This album came out in year $1991\n"
     ]
    }
   ],
   "source": [
    "album_year = 1991\n",
    "if album_year < 1980 or album_year == 1991 or album_year == 1993:\n",
    "  print(f'This album came out in year {album_year}')"
   ]
  }
 ],
 "metadata": {
  "kernelspec": {
   "display_name": "base",
   "language": "python",
   "name": "python3"
  },
  "language_info": {
   "codemirror_mode": {
    "name": "ipython",
    "version": 3
   },
   "file_extension": ".py",
   "mimetype": "text/x-python",
   "name": "python",
   "nbconvert_exporter": "python",
   "pygments_lexer": "ipython3",
   "version": "3.12.7"
  }
 },
 "nbformat": 4,
 "nbformat_minor": 2
}
