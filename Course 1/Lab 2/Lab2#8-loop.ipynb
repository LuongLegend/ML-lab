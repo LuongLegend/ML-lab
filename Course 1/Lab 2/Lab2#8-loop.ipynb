{
 "cells": [
  {
   "cell_type": "code",
   "execution_count": 3,
   "metadata": {},
   "outputs": [
    {
     "name": "stdout",
     "output_type": "stream",
     "text": [
      "2020\n",
      "2021\n",
      "2023\n",
      "2020\n",
      "2021\n",
      "2023\n"
     ]
    }
   ],
   "source": [
    "# range\n",
    "dates = [2020, 2021, 2023]\n",
    "N = len(dates)\n",
    "# use index for loop\n",
    "for i in range(N):\n",
    "  print(dates[i])\n",
    "# use for of\n",
    "for date in dates:\n",
    "  print(date)"
   ]
  },
  {
   "cell_type": "code",
   "execution_count": 4,
   "metadata": {},
   "outputs": [
    {
     "name": "stdout",
     "output_type": "stream",
     "text": [
      "index: 0, value: red\n",
      "index: 1, value: yellow\n",
      "index: 2, value: green\n",
      "index: 3, value: purple\n",
      "index: 4, value: blue\n"
     ]
    }
   ],
   "source": [
    "squares = ['red', 'yellow', 'green','purple', 'blue']\n",
    "for i,square in enumerate(squares):\n",
    "  print(f'index: {i}, value: {square}')"
   ]
  },
  {
   "cell_type": "code",
   "execution_count": 6,
   "metadata": {},
   "outputs": [
    {
     "name": "stdout",
     "output_type": "stream",
     "text": [
      "year: 2020 is not current year\n",
      "year: 2021 is not current year\n",
      "year: 2022 is not current year\n",
      "year: 2023 is not current year\n",
      "year: 2024 is not current year\n",
      "correct: current year is 2025\n"
     ]
    }
   ],
   "source": [
    "# While until current year\n",
    "year = 2020\n",
    "while(year != 2025):\n",
    "  print(f'year: {year} is not current year')\n",
    "  year+=1\n",
    "print(f'correct: current year is {year}')"
   ]
  },
  {
   "cell_type": "code",
   "execution_count": 8,
   "metadata": {},
   "outputs": [
    {
     "name": "stdout",
     "output_type": "stream",
     "text": [
      "-5\n",
      "-4\n",
      "-3\n",
      "-2\n",
      "-1\n",
      "0\n",
      "1\n",
      "2\n",
      "3\n",
      "4\n",
      "5\n"
     ]
    }
   ],
   "source": [
    "# Quiz\n",
    "for i in range(-5, 6):\n",
    "  print(i)"
   ]
  },
  {
   "cell_type": "code",
   "execution_count": 9,
   "metadata": {},
   "outputs": [
    {
     "name": "stdout",
     "output_type": "stream",
     "text": [
      "10\n",
      "9.5\n",
      "10\n",
      "8\n",
      "7.5\n"
     ]
    }
   ],
   "source": [
    "PlayListRatings = [10, 9.5, 10, 8, 7.5, 5, 10, 10]\n",
    "i = 0\n",
    "n = len(PlayListRatings)\n",
    "while(PlayListRatings[i] >=6 and i< n):\n",
    "  print(PlayListRatings[i])\n",
    "  i+=1"
   ]
  },
  {
   "cell_type": "code",
   "execution_count": 10,
   "metadata": {},
   "outputs": [
    {
     "name": "stdout",
     "output_type": "stream",
     "text": [
      "['orange', 'orange', 'orange']\n"
     ]
    }
   ],
   "source": [
    "squares = ['orange', 'orange', 'purple', 'blue', 'orange']\n",
    "new_squares = []\n",
    "i = 0\n",
    "n = len(squares)\n",
    "while(i<n):\n",
    "  if(squares[i] == 'orange'):\n",
    "    new_squares.append(squares[i])\n",
    "  i+=1\n",
    "print(new_squares)"
   ]
  }
 ],
 "metadata": {
  "kernelspec": {
   "display_name": "base",
   "language": "python",
   "name": "python3"
  },
  "language_info": {
   "codemirror_mode": {
    "name": "ipython",
    "version": 3
   },
   "file_extension": ".py",
   "mimetype": "text/x-python",
   "name": "python",
   "nbconvert_exporter": "python",
   "pygments_lexer": "ipython3",
   "version": "3.12.7"
  }
 },
 "nbformat": 4,
 "nbformat_minor": 2
}
