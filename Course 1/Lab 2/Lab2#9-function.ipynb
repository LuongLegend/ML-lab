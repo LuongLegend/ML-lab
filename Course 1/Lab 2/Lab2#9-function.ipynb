{
 "cells": [
  {
   "cell_type": "code",
   "execution_count": null,
   "metadata": {},
   "outputs": [],
   "source": []
  },
  {
   "cell_type": "code",
   "execution_count": 3,
   "metadata": {},
   "outputs": [
    {
     "name": "stdout",
     "output_type": "stream",
     "text": [
      "6\n",
      "Help on function sumTwo in module __main__:\n",
      "\n",
      "sumTwo(a, b)\n",
      "\n",
      "Help on built-in function sum in module builtins:\n",
      "\n",
      "sum(iterable, /, start=0)\n",
      "    Return the sum of a 'start' value (default: 0) plus an iterable of numbers\n",
      "\n",
      "    When the iterable is empty, return the start value.\n",
      "    This function is intended specifically for use with numeric values and may\n",
      "    reject non-numeric types.\n",
      "\n"
     ]
    }
   ],
   "source": [
    "def sumTwo(a,b):\n",
    "  return a+b\n",
    "print(sumTwo(3,3))\n",
    "help(sumTwo)\n",
    "help(sum)"
   ]
  },
  {
   "cell_type": "code",
   "execution_count": 4,
   "metadata": {},
   "outputs": [
    {
     "name": "stdout",
     "output_type": "stream",
     "text": [
      "2\n",
      "252\n",
      "hello\n"
     ]
    }
   ],
   "source": [
    "# tuple args\n",
    "def printAll(*args):\n",
    "  for arg in args:\n",
    "    print(arg)\n",
    "printAll('2', 252,'hello')"
   ]
  },
  {
   "cell_type": "code",
   "execution_count": 5,
   "metadata": {},
   "outputs": [
    {
     "name": "stdout",
     "output_type": "stream",
     "text": [
      "123\n",
      "2\n"
     ]
    }
   ],
   "source": [
    "# dictionary args\n",
    "def printDictionary(**args):\n",
    "  for key in args:\n",
    "    print(args[key])\n",
    "\n",
    "printDictionary(abc='123', hi='2', nothing=None)"
   ]
  }
 ],
 "metadata": {
  "kernelspec": {
   "display_name": "base",
   "language": "python",
   "name": "python3"
  },
  "language_info": {
   "codemirror_mode": {
    "name": "ipython",
    "version": 3
   },
   "file_extension": ".py",
   "mimetype": "text/x-python",
   "name": "python",
   "nbconvert_exporter": "python",
   "pygments_lexer": "ipython3",
   "version": "3.12.7"
  }
 },
 "nbformat": 4,
 "nbformat_minor": 2
}
