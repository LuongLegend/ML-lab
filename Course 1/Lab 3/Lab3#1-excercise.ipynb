{
 "cells": [
  {
   "cell_type": "code",
   "execution_count": 11,
   "metadata": {},
   "outputs": [
    {
     "name": "stdout",
     "output_type": "stream",
     "text": [
      "hello how are you today\n",
      "{'are': 1, 'hello': 1, 'how': 1, 'today': 1, 'you': 1}\n",
      "1\n"
     ]
    }
   ],
   "source": [
    "class analysedText:\n",
    "  def __init__(self, text): \n",
    "    self.fmtText = text.lower().replace('!','.').replace('.','').replace(',', '').replace('?','')\n",
    "  def freqAll(self):\n",
    "    freqMap = {}\n",
    "    wordList = self.fmtText.split(' ')\n",
    "    for word in set(wordList):\n",
    "      freqMap[word] = wordList.count(word)\n",
    "    return freqMap\n",
    "  def freqOf(self, word):\n",
    "    freqMap = self.freqAll()\n",
    "    if word in freqMap:\n",
    "      return freqMap[word]\n",
    "    return 0\n",
    "\n",
    "helloWord = analysedText('Hello, How are you today!')\n",
    "\n",
    "print(helloWord.fmtText)\n",
    "print(helloWord.freqAll())\n",
    "print(helloWord.freqOf(' '))\n",
    "\n"
   ]
  }
 ],
 "metadata": {
  "kernelspec": {
   "display_name": "base",
   "language": "python",
   "name": "python3"
  },
  "language_info": {
   "codemirror_mode": {
    "name": "ipython",
    "version": 3
   },
   "file_extension": ".py",
   "mimetype": "text/x-python",
   "name": "python",
   "nbconvert_exporter": "python",
   "pygments_lexer": "ipython3",
   "version": "3.12.7"
  }
 },
 "nbformat": 4,
 "nbformat_minor": 2
}
