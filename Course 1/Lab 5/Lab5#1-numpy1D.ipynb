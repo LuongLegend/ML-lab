{
 "cells": [
  {
   "cell_type": "code",
   "execution_count": 57,
   "metadata": {},
   "outputs": [],
   "source": [
    "import time \n",
    "import sys \n",
    "import numpy as np \n",
    "\n",
    "import matplotlib.pyplot as plt \n",
    "%matplotlib inline "
   ]
  },
  {
   "cell_type": "code",
   "execution_count": 58,
   "metadata": {},
   "outputs": [],
   "source": [
    "# Vẽ các hàm\n",
    "def Plotvec1(u, z, v):\n",
    "    ax = plt.axes()\n",
    "    \n",
    "    ax.arrow(0,0, *u, head_width=0.05, color = 'r', head_length = 0.1)\n",
    "    plt.text(*(u+0.1), 'u')\n",
    "    \n",
    "    ax.arrow(0,0, *z, head_width=0.05, color = 'b', head_length=0.1)\n",
    "    plt.text(*(z + 0.1), 'z')\n",
    "    \n",
    "    ax.arrow(0,0, *v, head_width =0.05, head_length=0.1)\n",
    "    plt.text(*(v+0.1), 'v')\n",
    "    plt.xlim(-2,2)\n",
    "    plt.ylim(-2,2)\n",
    "\n",
    "\n",
    "\n",
    "def Plotvec2(a,b):\n",
    "    ax = plt.axes()\n",
    "    ax.arrow(0, 0, *a, head_width=0.05, color ='r', head_length=0.1)\n",
    "    plt.text(*(a + 0.1), 'a')\n",
    "    ax.arrow(0, 0, *b, head_width=0.05, color ='b', head_length=0.1)\n",
    "    plt.text(*(b + 0.1), 'b')\n",
    "    plt.ylim(-2, 2)\n",
    "    plt.xlim(-2, 2)"
   ]
  },
  {
   "cell_type": "code",
   "execution_count": 6,
   "metadata": {},
   "outputs": [
    {
     "name": "stdout",
     "output_type": "stream",
     "text": [
      "0\n",
      "1\n",
      "two\n",
      "3\n",
      "4\n"
     ]
    }
   ],
   "source": [
    "a = [\"0\", 1, \"two\", \"3\", 4]\n",
    "print(a[0])\n",
    "print(a[1])\n",
    "print(a[2])\n",
    "print(a[3])\n",
    "print(a[4])"
   ]
  },
  {
   "cell_type": "code",
   "execution_count": 7,
   "metadata": {},
   "outputs": [
    {
     "name": "stdout",
     "output_type": "stream",
     "text": [
      "[10  5  6 10 10]\n"
     ]
    }
   ],
   "source": [
    "a = np.array([0,1,2,3,4])\n",
    "a\n",
    "a.dtype\n",
    "a[1:4] = 5,6,7\n",
    "a[[0,3,4]]=10\n",
    "print(a)"
   ]
  },
  {
   "cell_type": "code",
   "execution_count": 10,
   "metadata": {},
   "outputs": [
    {
     "data": {
      "text/plain": [
       "dtype('int32')"
      ]
     },
     "execution_count": 10,
     "metadata": {},
     "output_type": "execute_result"
    }
   ],
   "source": [
    "type(a)\n",
    "a.dtype"
   ]
  },
  {
   "cell_type": "code",
   "execution_count": 22,
   "metadata": {},
   "outputs": [
    {
     "name": "stdout",
     "output_type": "stream",
     "text": [
      "[100   1   2   3   4]\n",
      "[1 2 3]\n",
      "[100 100 100   3   4]\n",
      "[100 100 100 100 100]\n"
     ]
    }
   ],
   "source": [
    "c  = np.array([20,1,2,3,4])\n",
    "c[0] = 100\n",
    "print(c)\n",
    "d = c[1:4]\n",
    "print(d)\n",
    "c[1:3] = 100\n",
    "print(c)\n",
    "\n",
    "select = [3,4]\n",
    "c[select] = 100,100\n",
    "print(c)\n"
   ]
  },
  {
   "cell_type": "code",
   "execution_count": 30,
   "metadata": {},
   "outputs": [
    {
     "name": "stdout",
     "output_type": "stream",
     "text": [
      "[10  5  6 10 10]\n",
      "0.0\n"
     ]
    }
   ],
   "source": [
    "a.size\n",
    "a.shape\n",
    "mean = c.mean()\n",
    "mean\n",
    "print(a)\n",
    "standard_deviation = c.std()\n",
    "print(standard_deviation)"
   ]
  },
  {
   "cell_type": "code",
   "execution_count": 33,
   "metadata": {},
   "outputs": [
    {
     "name": "stdout",
     "output_type": "stream",
     "text": [
      "[1 1]\n",
      "[0 0]\n",
      "0\n",
      "[1 2]\n"
     ]
    }
   ],
   "source": [
    "u=np.array([0,1])\n",
    "v=np.array([1,0])\n",
    "print(u+v)\n",
    "print(u*v)\n",
    "# Tích vô hướng của 2 array khác nhau về chiều dài, thì sẽ trở thành nhân 2 array chứ k phải tích vô hướng 2 vector\n",
    "print(np.dot(u,v))\n",
    "z = u + 1\n",
    "print(z)"
   ]
  },
  {
   "cell_type": "code",
   "execution_count": 36,
   "metadata": {},
   "outputs": [
    {
     "name": "stdout",
     "output_type": "stream",
     "text": [
      "[[0.0000000e+00 1.0000000e+00 1.2246468e-16]]\n"
     ]
    }
   ],
   "source": [
    "np.pi\n",
    "x = [np.array([0, np.pi/2, np.pi])]\n",
    "# Tính sin của mỗi phần tử trong mảng\n",
    "y = np.sin(x)\n",
    "print(y)"
   ]
  },
  {
   "cell_type": "code",
   "execution_count": 43,
   "metadata": {},
   "outputs": [
    {
     "data": {
      "text/plain": [
       "[<matplotlib.lines.Line2D at 0x292bc5743e0>]"
      ]
     },
     "execution_count": 43,
     "metadata": {},
     "output_type": "execute_result"
    }
   ],
   "source": [
    "#Linspace trả về các số cách đều nhau trong 1 khoảng chỉ định\n",
    "np.linspace(-2,2, num=9)\n",
    "x = np.linspace(0, 2*np.pi, num=100)\n",
    "y = np.sin(x)\n",
    "plt.plot(x,y)\n"
   ]
  },
  {
   "cell_type": "code",
   "execution_count": 59,
   "metadata": {},
   "outputs": [],
   "source": [
    "a = np.array([-1,1])\n",
    "b = np.array([1,1])\n",
    "Plotvec2(a,b)"
   ]
  }
 ],
 "metadata": {
  "kernelspec": {
   "display_name": "base",
   "language": "python",
   "name": "python3"
  },
  "language_info": {
   "codemirror_mode": {
    "name": "ipython",
    "version": 3
   },
   "file_extension": ".py",
   "mimetype": "text/x-python",
   "name": "python",
   "nbconvert_exporter": "python",
   "pygments_lexer": "ipython3",
   "version": "3.12.7"
  }
 },
 "nbformat": 4,
 "nbformat_minor": 2
}
