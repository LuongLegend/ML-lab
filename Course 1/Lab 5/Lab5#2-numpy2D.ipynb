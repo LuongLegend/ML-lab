{
 "cells": [
  {
   "cell_type": "code",
   "execution_count": 3,
   "metadata": {},
   "outputs": [],
   "source": [
    "import numpy as np \n",
    "import matplotlib.pyplot as plt"
   ]
  },
  {
   "cell_type": "code",
   "execution_count": 37,
   "metadata": {},
   "outputs": [
    {
     "name": "stdout",
     "output_type": "stream",
     "text": [
      "2\n",
      "(3, 3)\n",
      "9\n",
      "33\n",
      "33\n",
      "[[11 12 13]\n",
      " [21 22 23]\n",
      " [31 32 33]]\n"
     ]
    },
    {
     "data": {
      "text/plain": [
       "array([21, 22, 23])"
      ]
     },
     "execution_count": 37,
     "metadata": {},
     "output_type": "execute_result"
    }
   ],
   "source": [
    "a = [[11,12,13], [21,22,23], [31,32,33]]\n",
    "a\n",
    "A = np.array(a)\n",
    "A\n",
    "print(A.ndim)\n",
    "print(A.shape)\n",
    "print(A.size)\n",
    "print(A[2][2])\n",
    "print(A[2,2])\n",
    "print(A)\n",
    "# Truy cập hàng đầu tiên [0]\n",
    "# Truy cập phần tử từ 0 -> 1"
   ]
  },
  {
   "cell_type": "code",
   "execution_count": 40,
   "metadata": {},
   "outputs": [
    {
     "data": {
      "text/plain": [
       "array([13, 23])"
      ]
     },
     "execution_count": 40,
     "metadata": {},
     "output_type": "execute_result"
    }
   ],
   "source": [
    "# Truy cập hàng 1,2 và truy cập cột thứ 3\n",
    "A[0:2,2]"
   ]
  },
  {
   "cell_type": "code",
   "execution_count": 45,
   "metadata": {},
   "outputs": [
    {
     "name": "stdout",
     "output_type": "stream",
     "text": [
      "[[4 2]\n",
      " [2 4]]\n"
     ]
    }
   ],
   "source": [
    "X = np.array([[1,0], [0,1]])\n",
    "Y = np.array([[2,1],[1,2]])\n",
    "X + Y \n",
    "Z = Y * 2\n",
    "print(Z)"
   ]
  },
  {
   "cell_type": "code",
   "execution_count": 50,
   "metadata": {},
   "outputs": [
    {
     "name": "stdout",
     "output_type": "stream",
     "text": [
      "[[0 2]\n",
      " [0 2]]\n"
     ]
    },
    {
     "data": {
      "text/plain": [
       "array([[0, 0],\n",
       "       [2, 2]])"
      ]
     },
     "execution_count": 50,
     "metadata": {},
     "output_type": "execute_result"
    }
   ],
   "source": [
    "A = np.array([[0,1,1], [1,0,1]])\n",
    "B = np.array([[1,1],[1,1],[-1,1]])\n",
    "Z = np.dot(A,B)\n",
    "print(Z)\n",
    "Z.T "
   ]
  },
  {
   "cell_type": "code",
   "execution_count": 52,
   "metadata": {},
   "outputs": [
    {
     "name": "stdout",
     "output_type": "stream",
     "text": [
      "[[ 1  4]\n",
      " [ 5 12]\n",
      " [ 9 20]]\n"
     ]
    }
   ],
   "source": [
    "# Quiz \n",
    "a = [[1,2,3,4], [5,6,7,8],[9,10,11,12]]\n",
    "A = np.array(a)\n",
    "B = np.array([[0,1],[1,0],[1,1],[-1,0]])\n",
    "print(np.dot(A,B))"
   ]
  }
 ],
 "metadata": {
  "kernelspec": {
   "display_name": "base",
   "language": "python",
   "name": "python3"
  },
  "language_info": {
   "codemirror_mode": {
    "name": "ipython",
    "version": 3
   },
   "file_extension": ".py",
   "mimetype": "text/x-python",
   "name": "python",
   "nbconvert_exporter": "python",
   "pygments_lexer": "ipython3",
   "version": "3.12.7"
  }
 },
 "nbformat": 4,
 "nbformat_minor": 2
}
