{
 "cells": [
  {
   "cell_type": "code",
   "execution_count": 3,
   "id": "1d19b7e0",
   "metadata": {},
   "outputs": [
    {
     "data": {
      "text/plain": [
       "('Example1.txt', <http.client.HTTPMessage at 0x105023770>)"
      ]
     },
     "execution_count": 3,
     "metadata": {},
     "output_type": "execute_result"
    }
   ],
   "source": [
    "import urllib.request as url_req\n",
    "url = 'https://cf-courses-data.s3.us.cloud-object-storage.appdomain.cloud/IBMDeveloperSkillsNetwork-PY0101EN-SkillsNetwork/labs/Module%204/data/example1.txt'\n",
    "filename = 'Example1.txt'\n",
    "url_req.urlretrieve(url, filename)"
   ]
  },
  {
   "cell_type": "code",
   "execution_count": 11,
   "id": "4f3a15f6",
   "metadata": {},
   "outputs": [
    {
     "name": "stdout",
     "output_type": "stream",
     "text": [
      "Example1.txt\n",
      "This is line 1 \n",
      "This is line 2\n",
      "This is line 3\n",
      "r\n",
      "<class 'str'>\n"
     ]
    },
    {
     "data": {
      "text/plain": [
       "True"
      ]
     },
     "execution_count": 11,
     "metadata": {},
     "output_type": "execute_result"
    }
   ],
   "source": [
    "filename='Example1.txt'\n",
    "file1=open(filename, 'r')\n",
    "print(file1.name)\n",
    "FileContent = file1.read()\n",
    "print(FileContent)\n",
    "print(file1.mode)\n",
    "print(type(FileContent))\n",
    "#Close file\n",
    "file1.close()\n",
    "#Check close\n",
    "file1.closed"
   ]
  },
  {
   "cell_type": "code",
   "execution_count": 16,
   "id": "117b6d76",
   "metadata": {},
   "outputs": [
    {
     "name": "stdout",
     "output_type": "stream",
     "text": [
      "This\n",
      " is \n",
      "line 1 \n",
      "\n"
     ]
    }
   ],
   "source": [
    "# Tự đóng file khi ra khỏi khối lệnh\n",
    "with open(filename, 'r') as file01: \n",
    "  # Con trỏ mặc định ở đầu file -> sau đó sê dịch mỗi khi có lệnh read \n",
    "  print(file01.read(4))\n",
    "  print(file01.read(4))\n",
    "  #next line\n",
    "  print(file01.readline())"
   ]
  },
  {
   "cell_type": "code",
   "execution_count": null,
   "id": "2e7b3aab",
   "metadata": {},
   "outputs": [
    {
     "name": "stdout",
     "output_type": "stream",
     "text": [
      "This is line 1 \n",
      "\n",
      "This is line 2\n",
      "\n",
      "This is line 3\n"
     ]
    }
   ],
   "source": [
    "#Loop, sẽ lặp theo từng dòng 1 \n",
    "with open(filename, 'r') as file1:\n",
    "  for line in file1:\n",
    "    print(line)"
   ]
  },
  {
   "cell_type": "code",
   "execution_count": 19,
   "id": "73b13420",
   "metadata": {},
   "outputs": [
    {
     "name": "stdout",
     "output_type": "stream",
     "text": [
      "<class 'list'>\n",
      "['This is line 1 \\n', 'This is line 2\\n', 'This is line 3']\n",
      "This is line 3\n"
     ]
    }
   ],
   "source": [
    "with open(filename, 'r') as file1:\n",
    "  # readlines() sẽ trả về 1 list\n",
    "  text_list = file1.readlines()\n",
    "  print(type(text_list))\n",
    "  print(text_list)\n",
    "  print(text_list[2])"
   ]
  }
 ],
 "metadata": {
  "kernelspec": {
   "display_name": ".venv",
   "language": "python",
   "name": "python3"
  },
  "language_info": {
   "codemirror_mode": {
    "name": "ipython",
    "version": 3
   },
   "file_extension": ".py",
   "mimetype": "text/x-python",
   "name": "python",
   "nbconvert_exporter": "python",
   "pygments_lexer": "ipython3",
   "version": "3.13.3"
  }
 },
 "nbformat": 4,
 "nbformat_minor": 5
}
