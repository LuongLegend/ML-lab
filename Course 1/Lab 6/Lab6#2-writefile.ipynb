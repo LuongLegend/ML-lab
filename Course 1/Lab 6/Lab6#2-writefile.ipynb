{
 "cells": [
  {
   "cell_type": "code",
   "execution_count": 10,
   "id": "6fd00df6",
   "metadata": {},
   "outputs": [],
   "source": [
    "filepath = 'Example2.txt'\n",
    "with open(filepath, 'w') as wf:\n",
    "  wf.write('This is line A')  "
   ]
  },
  {
   "cell_type": "code",
   "execution_count": 7,
   "id": "eb6425dd",
   "metadata": {},
   "outputs": [
    {
     "name": "stdout",
     "output_type": "stream",
     "text": [
      "This is line A\n",
      "This is line B\n",
      "This is line C\n"
     ]
    }
   ],
   "source": [
    "#read fine\n",
    "with open(filepath, 'r') as rf:\n",
    "  print(rf.read())"
   ]
  },
  {
   "cell_type": "code",
   "execution_count": 16,
   "id": "3edce01e",
   "metadata": {},
   "outputs": [],
   "source": [
    "#List mẫu\n",
    "Lines = ['This is line A\\n', 'This is line B\\n', 'This is line C']\n",
    "#hàm write sẽ ghi liên tục liền mạc vào file nhưng chỉ trong 1 phiên này(1 lần đóng mở ghi file)\n",
    "# nếu thực hiện ở lần đóng mở khác, file sẽ bị ghi đè \n",
    "with open(filepath, 'w') as wf:\n",
    "  for line in Lines:\n",
    "    wf.write(line)\n",
    "  wf.write('\\nThis is new line')\n"
   ]
  },
  {
   "cell_type": "code",
   "execution_count": 38,
   "id": "1446e5d9",
   "metadata": {},
   "outputs": [
    {
     "name": "stdout",
     "output_type": "stream",
     "text": [
      "589\n",
      "0\n",
      "This is line A\n",
      "This is line B\n",
      "This is line C\n",
      "This is new line\n",
      "This is new append line\n",
      "This is new append line\n",
      "This is new append line\n",
      "This is new append line\n",
      "This is new append line\n",
      "This is new append line\n",
      "This is new append line\n",
      "This is new append line\n",
      "This is new append line\n",
      "This is new append line\n",
      "This is new append line\n",
      "This is new append line\n",
      "This is new append line\n",
      "This is new append line\n",
      "This is new append line\n",
      "This is new append line\n",
      "This is new append line\n",
      "This is new append line\n",
      "This is new append line\n",
      "This is new append line\n",
      "This is new append line\n",
      "This is new append line\n"
     ]
    }
   ],
   "source": [
    "# Thêm dữ liệu vào file đã có mà không mất dữ liệu \n",
    "# Dùng append \n",
    "# Khi ghi file con trỏ sẽ trỏ về cuối của file. -> nên khi đọc thì sẽ k hiện ra gì, vì sau đó còn gì nữa đâu \n",
    "with open(filepath, 'a+') as af: \n",
    "  af.write('\\nThis is new append line')\n",
    "  print(af.tell())\n",
    "  #move to first \n",
    "  af.seek(0,0)\n",
    "  print(af.tell())\n",
    "  print(af.read())\n",
    "  "
   ]
  },
  {
   "cell_type": "code",
   "execution_count": 46,
   "id": "e3712477",
   "metadata": {},
   "outputs": [
    {
     "name": "stdout",
     "output_type": "stream",
     "text": [
      "29\n",
      "Line 1\n",
      "Line 2\n",
      "Line 3\n",
      "finished\n"
     ]
    }
   ],
   "source": [
    "with open(filepath, 'r+') as rf:\n",
    "  data = rf.readlines()\n",
    "  print(rf.tell())\n",
    "  rf.seek(0,0)\n",
    "  rf.write('Line 1\\n')\n",
    "  rf.write('Line 2\\n')\n",
    "  rf.write('Line 3\\n')\n",
    "  rf.write('finished')\n",
    "  rf.truncate()\n",
    "  #remain will be cut\n",
    "  rf.seek(0,0)\n",
    "  print(rf.read())\n",
    "  "
   ]
  },
  {
   "cell_type": "code",
   "execution_count": 48,
   "id": "2f6be501",
   "metadata": {},
   "outputs": [
    {
     "name": "stdout",
     "output_type": "stream",
     "text": [
      "Line 1\n",
      "Line 2\n",
      "Line 3\n",
      "finished\n"
     ]
    }
   ],
   "source": [
    "# Copy file -> copy từng dòng của file này sang file khác \n",
    "\n",
    "with open('Example3.txt', 'w+') as wf3:\n",
    "  with open(filepath, 'r') as rf2:\n",
    "    for line in rf2:\n",
    "      wf3.write(line)\n",
    "  wf3.seek(0,0)\n",
    "  print(wf3.read())"
   ]
  },
  {
   "cell_type": "markdown",
   "id": "63f5f01a",
   "metadata": {},
   "source": [
    "# Exercise"
   ]
  },
  {
   "cell_type": "code",
   "execution_count": 82,
   "id": "7740a45a",
   "metadata": {},
   "outputs": [],
   "source": [
    "#Chạy cái này trước khi bắt đầu exercise\n",
    "# rnd(start, end) random int số từ start cho đến end \n",
    "from random import randint as rnd\n",
    "\n",
    "memReg = 'members.txt'\n",
    "exReg = 'inactive.txt'\n",
    "fee =('yes','no')\n",
    "\n",
    "def genFiles(current,old):\n",
    "    with open(current,'w+') as writefile: \n",
    "        writefile.write('Membership No  Date Joined  Active  \\n')\n",
    "        # Format kiểu dữ liệu ^13 căn giũa với 13 ký tự, <11 căn trái với 11 ký tự, <6 căn trái với 6 ký tự\n",
    "        # format theo chiều dài heading \n",
    "        # 13 ~ Membership No\n",
    "        # 11 ~ Date Joined\n",
    "        # 6 ~ Active\n",
    "        data = \"{:^13}  {:<11}  {:<6}\\n\"\n",
    "\n",
    "        for rowno in range(20):\n",
    "            date = str(rnd(2015,2020))+ '-' + str(rnd(1,12))+'-'+str(rnd(1,25))\n",
    "            writefile.write(data.format(rnd(10000,99999),date,fee[rnd(0,1)]))\n",
    "\n",
    "\n",
    "    with open(old,'w+') as writefile: \n",
    "        writefile.write('Membership No  Date Joined  Active  \\n')\n",
    "        data = \"{:^13}  {:<11}  {:<6}\\n\"\n",
    "        for rowno in range(3):\n",
    "            date = str(rnd(2015,2020))+ '-' + str(rnd(1,12))+'-'+str(rnd(1,25))\n",
    "            # ghi file với dữ liệu đã format \n",
    "            writefile.write(data.format(rnd(10000,99999),date,fee[1]))\n",
    "\n",
    "genFiles(memReg,exReg)"
   ]
  },
  {
   "cell_type": "code",
   "execution_count": null,
   "id": "e7534ecd",
   "metadata": {},
   "outputs": [],
   "source": [
    "\n",
    "def cleanFiles(currentMem,exMem):\n",
    "  '''\n",
    "  currentMem: File containing list of current members\n",
    "  exMem: File containing list of old members\n",
    "\n",
    "  Removes all rows from currentMem containing 'no' and appends them to exMem\n",
    "  '''\n",
    "  # Đọc trước ghi sau \n",
    "  with open(currentMem, 'r+') as currMem:\n",
    "    mem_list = currMem.readlines()\n",
    "    correct_mems = []\n",
    "    with open(exMem, 'a') as exMemF:\n",
    "      for index, mem in enumerate(mem_list):\n",
    "        if 'no' in mem:\n",
    "          exMemF.write(mem)\n",
    "        else:\n",
    "          correct_mems.extend(mem)\n",
    "    currMem.seek(0,0)\n",
    "    for mem in correct_mems:\n",
    "      currMem.write(mem)\n",
    "    currMem.truncate()\n",
    "        \n",
    "          \n",
    "      \n",
    "\n",
    "\n",
    "# Code giúp bạn thấy file\n",
    "# Để như sau\n",
    "memReg = 'members.txt'\n",
    "exReg = 'inactive.txt'\n",
    "cleanFiles(memReg,exReg)\n",
    "\n",
    "\n",
    "headers = \"Membership No  Date Joined  Active  \\n\"\n",
    "with open(memReg,'r') as readFile:\n",
    "    print(\"Active Members: \\n\\n\")\n",
    "    print(readFile.read())\n",
    "    \n",
    "with open(exReg,'r') as readFile:\n",
    "    print(\"Inactive Members: \\n\\n\")\n",
    "    print(readFile.read())"
   ]
  },
  {
   "cell_type": "code",
   "execution_count": 85,
   "id": "3d19fe20",
   "metadata": {},
   "outputs": [
    {
     "name": "stdout",
     "output_type": "stream",
     "text": [
      "Test Passed\n"
     ]
    }
   ],
   "source": [
    "def testMsg(passed):\n",
    "    if passed:\n",
    "       return 'Test Passed'\n",
    "    else :\n",
    "       return 'Test Failed'\n",
    "\n",
    "testWrite = \"testWrite.txt\"\n",
    "testAppend = \"testAppend.txt\" \n",
    "passed = True\n",
    "\n",
    "genFiles(testWrite,testAppend)\n",
    "\n",
    "with open(testWrite,'r') as file:\n",
    "    ogWrite = file.readlines()\n",
    "\n",
    "with open(testAppend,'r') as file:\n",
    "    ogAppend = file.readlines()\n",
    "\n",
    "try:\n",
    "    cleanFiles(testWrite,testAppend)\n",
    "except:\n",
    "    print('Error')\n",
    "\n",
    "with open(testWrite,'r') as file:\n",
    "    clWrite = file.readlines()\n",
    "\n",
    "with open(testAppend,'r') as file:\n",
    "    clAppend = file.readlines()\n",
    "        \n",
    "# kiểm tra xem không có bất kỳ hàng nào giống nhau, bao gồm tiêu đề\n",
    "\n",
    "if (len(ogWrite) + len(ogAppend) != len(clWrite) + len(clAppend)):\n",
    "    print(\"The number of rows do not add up. Make sure your final files have the same header and format.\")\n",
    "    passed = False\n",
    "    \n",
    "for line in clWrite:\n",
    "    if  'no' in line:\n",
    "        passed = False\n",
    "        print(\"Inactive members in file\")\n",
    "        break\n",
    "    else:\n",
    "        if line not in ogWrite:\n",
    "            print(\"Data in file does not match original file\")\n",
    "            passed = False\n",
    "print (\"{}\".format(testMsg(passed)))"
   ]
  },
  {
   "cell_type": "code",
   "execution_count": null,
   "id": "3573c41a",
   "metadata": {},
   "outputs": [],
   "source": []
  }
 ],
 "metadata": {
  "kernelspec": {
   "display_name": ".venv",
   "language": "python",
   "name": "python3"
  },
  "language_info": {
   "codemirror_mode": {
    "name": "ipython",
    "version": 3
   },
   "file_extension": ".py",
   "mimetype": "text/x-python",
   "name": "python",
   "nbconvert_exporter": "python",
   "pygments_lexer": "ipython3",
   "version": "3.13.3"
  }
 },
 "nbformat": 4,
 "nbformat_minor": 5
}
