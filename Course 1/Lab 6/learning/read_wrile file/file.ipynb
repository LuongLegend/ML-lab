{
 "cells": [
  {
   "cell_type": "code",
   "execution_count": 19,
   "metadata": {},
   "outputs": [
    {
     "name": "stdout",
     "output_type": "stream",
     "text": [
      "text.txt\n",
      "r\n",
      "this is the first \n",
      "line\n",
      "\n",
      "this is the second line\n",
      "True\n",
      "this is the second line\n"
     ]
    }
   ],
   "source": [
    "file1 = open('text.txt', 'r')\n",
    "print(file1.name)\n",
    "print(file1.mode)\n",
    "file1.close()\n",
    "with open('text.txt', 'r') as file2:\n",
    "  #file_stuff = file2.readline()\n",
    "  #print(file_stuff)\n",
    "  #for line in file2:\n",
    "  #  print(line)\n",
    "  file_stuff = file2.readline(18)\n",
    "  print(file_stuff)\n",
    "  file_stuff = file2.readline(7)\n",
    "  print(file_stuff)\n",
    "  file_stuff = file2.readline(23)\n",
    "  print(file_stuff)\n",
    "print(file2.closed)\n",
    "print(file_stuff)\n"
   ]
  },
  {
   "cell_type": "code",
   "execution_count": 24,
   "metadata": {},
   "outputs": [
    {
     "name": "stdout",
     "output_type": "stream",
     "text": [
      "\n",
      " this is new line\n"
     ]
    }
   ],
   "source": [
    "\n",
    "with open('text.txt', 'w') as file1:\n",
    "  file1.write('\\n this is new line')\n",
    "# w sẽ là ghi đè file\n",
    "\n",
    "with open('text.txt','r') as file2:\n",
    "  line_stuff = file2.read()\n",
    "  print(line_stuff)"
   ]
  },
  {
   "cell_type": "code",
   "execution_count": 26,
   "metadata": {},
   "outputs": [],
   "source": [
    "with open('text.txt', 'a') as file1:\n",
    "  file1.write('\\n extend new line')"
   ]
  },
  {
   "cell_type": "code",
   "execution_count": 30,
   "metadata": {},
   "outputs": [],
   "source": [
    "# Copy text.txt to  text_copy.txt\n",
    "with open('text.txt', 'r') as text_file:\n",
    "  with open('text_copy.txt', 'w') as text_copy:\n",
    "    for line in text_file:\n",
    "      text_copy.write(line)"
   ]
  }
 ],
 "metadata": {
  "kernelspec": {
   "display_name": "base",
   "language": "python",
   "name": "python3"
  },
  "language_info": {
   "codemirror_mode": {
    "name": "ipython",
    "version": 3
   },
   "file_extension": ".py",
   "mimetype": "text/x-python",
   "name": "python",
   "nbconvert_exporter": "python",
   "pygments_lexer": "ipython3",
   "version": "3.12.7"
  }
 },
 "nbformat": 4,
 "nbformat_minor": 2
}
